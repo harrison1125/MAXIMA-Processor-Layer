{
 "cells": [
  {
   "cell_type": "code",
   "execution_count": null,
   "metadata": {},
   "outputs": [],
   "source": [
    "import os\n",
    "import matplotlib.pyplot as plt\n",
    "\n",
    "# Define the target directory\n",
    "directory = \"/Users/hpark108/20250318_CuTi_for_Rohit/Automated_Data_Handling\"\n",
    "\n",
    "# Change to the directory\n",
    "os.chdir(directory)\n",
    "\n",
    "# List all files\n",
    "filenames = os.listdir(directory)\n",
    "\n",
    "# Filter only .mca files\n",
    "mca_files = [f for f in filenames if f.endswith(\".mca\")]\n",
    "\n",
    "# Print the filenames\n",
    "print(\"MCA Files in directory:\", mca_files)\n",
    "\n",
    "# Loop through each MCA file and read content\n",
    "for filename in mca_files:\n",
    "    filepath = os.path.join(directory, filename)\n",
    "    \n",
    "    try:\n",
    "        # Open and read the ASCII .mca file\n",
    "        with open(filepath, \"rb\") as file:\n",
    "            lines = file.readlines()\n",
    "\n",
    "            if not lines:  # Check if the file is empty\n",
    "                print(f\"Skipping {filename}: File is empty.\")\n",
    "                continue\n",
    "\n",
    "            data_start = 0\n",
    "            for i, line in enumerate(lines):\n",
    "                if line.strip().isdigit():  # First numeric-only line marks data start\n",
    "                    data_start = i\n",
    "                    break\n",
    "\n",
    "            # Extract spectrum data (assuming each line represents a count)\n",
    "            spectrum_counts = [int(line.strip()) for line in lines[data_start:] if line.strip().isdigit()]\n",
    "            channels = range(0, len(spectrum_counts))\n",
    "\n",
    "            # Plot the spectrum\n",
    "            plt.figure(figsize=(10, 6))\n",
    "            plt.plot(channels, spectrum_counts, marker='o', linestyle='-', markersize=2)\n",
    "            plt.xlabel(\"Channel\")\n",
    "            plt.ylabel(\"Counts\")\n",
    "            plt.ylim(0,1200)\n",
    "            plt.title(f\"Spectrum Data - {filename}\")\n",
    "            plt.grid(True)\n",
    "\n",
    "            # Save the plot\n",
    "            plot_filename = os.path.join(directory, f\"{os.path.splitext(filename)[0]}.png\")\n",
    "            plt.savefig(plot_filename, dpi=300)\n",
    "            plt.close()\n",
    "\n",
    "            print(f\"Plot saved: {plot_filename}\")\n",
    "\n",
    "    except Exception as e:\n",
    "        print(f\"Could not process {filename}: {e}\")\n"
   ]
  },
  {
   "cell_type": "code",
   "execution_count": null,
   "metadata": {},
   "outputs": [],
   "source": []
  }
 ],
 "metadata": {
  "kernelspec": {
   "display_name": "hexrdgui",
   "language": "python",
   "name": "python3"
  },
  "language_info": {
   "codemirror_mode": {
    "name": "ipython",
    "version": 3
   },
   "file_extension": ".py",
   "mimetype": "text/x-python",
   "name": "python",
   "nbconvert_exporter": "python",
   "pygments_lexer": "ipython3",
   "version": "3.11.9"
  }
 },
 "nbformat": 4,
 "nbformat_minor": 2
}
